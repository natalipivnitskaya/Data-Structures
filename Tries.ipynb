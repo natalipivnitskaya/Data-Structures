{
 "cells": [
  {
   "cell_type": "code",
   "execution_count": 1,
   "metadata": {},
   "outputs": [],
   "source": [
    "class Trie(object):\n",
    "\n",
    "    def __init__(self):\n",
    "        self.trie = {}\n",
    "\n",
    "\n",
    "    def insert(self, word):\n",
    "        t = self.trie\n",
    "        for c in word:\n",
    "            if c not in t: t[c] = {}\n",
    "            t = t[c]\n",
    "        t[\"-\"] = True\n",
    "\n",
    "\n",
    "    def search(self, word):\n",
    "        t = self.trie\n",
    "        for c in word:\n",
    "            if c not in t: return False\n",
    "            t = t[c]\n",
    "        return \"-\" in t\n",
    "\n",
    "    \n",
    "    def startsWith(self, prefix):\n",
    "        t = self.trie\n",
    "        for c in prefix:\n",
    "            if c not in t: return False\n",
    "            t = t[c]\n",
    "        return True"
   ]
  },
  {
   "cell_type": "code",
   "execution_count": 2,
   "metadata": {},
   "outputs": [],
   "source": [
    "t = Trie()"
   ]
  },
  {
   "cell_type": "code",
   "execution_count": 3,
   "metadata": {},
   "outputs": [],
   "source": [
    "t.insert('Hello')"
   ]
  },
  {
   "cell_type": "code",
   "execution_count": null,
   "metadata": {},
   "outputs": [],
   "source": []
  }
 ],
 "metadata": {
  "kernelspec": {
   "display_name": "Python [conda env:fastai] *",
   "language": "python",
   "name": "conda-env-fastai-py"
  },
  "language_info": {
   "codemirror_mode": {
    "name": "ipython",
    "version": 3
   },
   "file_extension": ".py",
   "mimetype": "text/x-python",
   "name": "python",
   "nbconvert_exporter": "python",
   "pygments_lexer": "ipython3",
   "version": "3.6.7"
  }
 },
 "nbformat": 4,
 "nbformat_minor": 2
}
