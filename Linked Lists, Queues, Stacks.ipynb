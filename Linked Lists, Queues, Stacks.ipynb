{
 "cells": [
  {
   "cell_type": "markdown",
   "metadata": {},
   "source": [
    "#### Dependancies import"
   ]
  },
  {
   "cell_type": "code",
   "execution_count": 1,
   "metadata": {},
   "outputs": [],
   "source": [
    "import collections"
   ]
  },
  {
   "cell_type": "markdown",
   "metadata": {},
   "source": [
    "#### Node Class realization"
   ]
  },
  {
   "cell_type": "code",
   "execution_count": 2,
   "metadata": {},
   "outputs": [],
   "source": [
    "class Node:\n",
    "    \n",
    "    def __init__(self, val = None, next_ = None):\n",
    "        \"\"\"\n",
    "        Class initialization with val and next_ attributes\n",
    "        \"\"\"\n",
    "        self.val = val\n",
    "        self.next_ = next_"
   ]
  },
  {
   "cell_type": "markdown",
   "metadata": {},
   "source": [
    "#### LinkedList class realization"
   ]
  },
  {
   "cell_type": "code",
   "execution_count": 3,
   "metadata": {},
   "outputs": [],
   "source": [
    "class LinkedList:\n",
    "    \n",
    "    def __init__(self, head:Node = None):\n",
    "        \"\"\"\n",
    "        Class initialization with val and next attributes.\n",
    "        \"\"\"\n",
    "        self.head = head\n",
    "        \n",
    "    \n",
    "    def to_list(self) ->list:\n",
    "        \"\"\"\n",
    "        Converts linked list to list.\n",
    "        \"\"\"\n",
    "        cur = self.head\n",
    "        out = []\n",
    "        \n",
    "        while cur is not None:\n",
    "            out.append(cur.val)\n",
    "            cur = cur.next_\n",
    "        return out\n",
    "    \n",
    "    \n",
    "    def add(self, val:int):\n",
    "        \"\"\"\n",
    "        Add node to another node.\n",
    "        \"\"\"\n",
    "        node = Node(val)\n",
    "        \n",
    "        if self.head is None:\n",
    "            self.head = node\n",
    "        else:\n",
    "            cur = self.head\n",
    "            while cur.next_:\n",
    "                cur = cur.next_\n",
    "            cur.next_ = node\n",
    "    \n",
    "    def is_empty(self)-> bool:\n",
    "        \"\"\"\n",
    "        Return True if linked lisk is empty else False.\n",
    "        \"\"\"\n",
    "        return self.head == None\n",
    "    \n",
    "    def remove(self, val:int)-> None:\n",
    "        \"\"\"\n",
    "        Remove element from linked list bu it's value.\n",
    "        \"\"\"\n",
    "        cur = self.head\n",
    "        if cur.val == val:\n",
    "            self.head = cur.next_\n",
    "        \n",
    "        else:\n",
    "            while cur.next_:\n",
    "                if cur.next_.val != val:\n",
    "                    cur = cur.next_\n",
    "                else:\n",
    "                    cur.next_ = cur.next_.next_\n",
    "                    return\n",
    "    \n",
    "    \n",
    "    def remove_idx(self, idx:int)-> None:\n",
    "        \"\"\"\n",
    "        Remove element from linked list by index.\n",
    "        \"\"\"\n",
    "        cur = self.head\n",
    "        if idx == 0:\n",
    "            self.head = cur.next_\n",
    "        else:\n",
    "            cur_idx = 0\n",
    "            while cur.next_:\n",
    "                if cur_idx != idx-1:\n",
    "                    cur = cur.next_\n",
    "                    cur_idx += 1\n",
    "                else:\n",
    "                    cur.next_ = cur.next_.next_\n",
    "                    return     \n",
    "            print('KeyError')\n",
    "            \n",
    "    \n",
    "    def find(self, val:int)-> Node:\n",
    "        \"\"\"\n",
    "        Returns Node with val. If not val in linked list returns None.\n",
    "        \"\"\"\n",
    "        cur = self.head\n",
    "        if cur.val == val:\n",
    "            return cur\n",
    "        \n",
    "        while cur.next:\n",
    "            cur = cur.next\n",
    "            if cur.val == val:\n",
    "                return cur\n",
    "        \n",
    "        return None\n",
    "    \n",
    "    \n",
    "    def find_idx(self, idx:int)->Node:\n",
    "        \"\"\"\n",
    "        Return Node by its index in linken list. If not val returns None.\n",
    "        \"\"\"\n",
    "        cur = self.head\n",
    "        if idx == 0:\n",
    "            return cur\n",
    "        \n",
    "        cur_idx = 0\n",
    "        while cur.next_:\n",
    "            cur = cur.next_\n",
    "            cur_idx += 1\n",
    "            if cur_idx == idx:\n",
    "                return cur\n",
    "        return None\n",
    "    \n",
    "    \n",
    "    def size(self)->int:\n",
    "        \"\"\"\n",
    "        Return the size of linked list.\n",
    "        \"\"\"\n",
    "        size = 0\n",
    "        cur = self.head\n",
    "        while cur:\n",
    "            cur = cur.next_\n",
    "            size += 1\n",
    "        return size\n",
    "    \n",
    "    \n",
    "    def reverse(self)->None:\n",
    "        \"\"\"\n",
    "        Reverse the linked list\n",
    "        \"\"\"\n",
    "        cur = self.head\n",
    "        if cur is None:\n",
    "            return None\n",
    " \n",
    "        prev = None\n",
    "        while cur:\n",
    "            tmp = cur.next_\n",
    "            cur.next_ = prev\n",
    "            prev = cur\n",
    "            cur = tmp\n",
    "        \n",
    "        self.head = prev\n",
    "        \n",
    "    \n",
    "    def reverse_recursive(self):\n",
    "        \"\"\"\n",
    "        Reverse recursively and returns list\n",
    "        \"\"\"\n",
    "        \n",
    "        def reverse(cur:Node, prev=None)->Node:\n",
    "            \"\"\"\n",
    "            Reverse recursively and returns list\n",
    "            \"\"\"\n",
    "            if not cur:\n",
    "                return prev\n",
    "\n",
    "            new = cur.next_\n",
    "            cur.next_ = prev\n",
    "            \n",
    "            return reverse(new, cur)\n",
    "    \n",
    "        self.head = reverse(self.head)\n",
    "        return self"
   ]
  },
  {
   "cell_type": "code",
   "execution_count": 4,
   "metadata": {},
   "outputs": [],
   "source": [
    "ll = LinkedList()\n",
    "\n",
    "ll.add(6)\n",
    "assert ll.to_list() == [6]\n",
    "\n",
    "ll.add(7)\n",
    "assert not ll.is_empty()\n",
    "\n",
    "ll.add(10)\n",
    "assert not ll.remove(7)\n",
    "\n",
    "ll.add(5)\n",
    "assert ll.to_list() == [6, 10, 5]\n",
    "\n",
    "ll.add(8)\n",
    "assert ll.to_list() == [6, 10, 5, 8]\n",
    "\n",
    "ll.remove_idx(2)\n",
    "assert ll.to_list() == [6, 10, 8]\n",
    "\n",
    "ll.remove(6)\n",
    "assert ll.to_list() == [10, 8]\n",
    "\n",
    "ll.remove(10)\n",
    "assert ll.to_list() == [8]\n",
    "\n",
    "ll.remove_idx(0)\n",
    "assert ll.to_list() == []\n",
    "\n",
    "ll.add(5)\n",
    "assert ll.to_list() == [5]\n",
    "\n",
    "assert ll.find(5).val == 5\n",
    "\n",
    "ll.add(10)\n",
    "assert ll.to_list() == [5, 10]\n",
    "\n",
    "assert ll.find_idx(1).val == 10\n",
    "\n",
    "assert ll.size() == 2\n",
    "\n",
    "ll.reverse()\n",
    "assert ll.to_list() == [10, 5]"
   ]
  },
  {
   "cell_type": "code",
   "execution_count": 5,
   "metadata": {},
   "outputs": [
    {
     "data": {
      "text/plain": [
       "[5, 10]"
      ]
     },
     "execution_count": 5,
     "metadata": {},
     "output_type": "execute_result"
    }
   ],
   "source": [
    "ll.reverse_recursive().to_list()"
   ]
  },
  {
   "cell_type": "code",
   "execution_count": 6,
   "metadata": {},
   "outputs": [
    {
     "data": {
      "text/plain": [
       "<__main__.LinkedList at 0x7fbcc84a36d8>"
      ]
     },
     "execution_count": 6,
     "metadata": {},
     "output_type": "execute_result"
    }
   ],
   "source": [
    "ll"
   ]
  },
  {
   "cell_type": "markdown",
   "metadata": {},
   "source": [
    "#### Stack with linked list data structure"
   ]
  },
  {
   "cell_type": "code",
   "execution_count": 7,
   "metadata": {},
   "outputs": [],
   "source": [
    "class Stack_LL:\n",
    "    \n",
    "    \n",
    "    def __init__(self):\n",
    "        \"\"\"\n",
    "        Stack_LL initialization.\n",
    "        \"\"\"\n",
    "        self.head = Node()\n",
    "    \n",
    "    \n",
    "    def push(self, val:int):\n",
    "        \"\"\"\n",
    "        Add element to stack.\n",
    "        \"\"\"\n",
    "        if self.head is None:\n",
    "            self.head = Node(val)\n",
    "        else:\n",
    "            node = Node(val)\n",
    "            node.next_ = self.head\n",
    "            self.head = node\n",
    "    \n",
    "    \n",
    "    def pop(self):\n",
    "        \"\"\"\n",
    "        Pops the last added element from linked list in accordince with LIFO principle.\n",
    "        \"\"\"\n",
    "        \n",
    "        if not self.head:\n",
    "            return 'Stack is empty'\n",
    "        val = self.head.val\n",
    "        new_head = self.head.next_\n",
    "        self.head = new_head\n",
    "        \n",
    "        return val\n",
    "    \n",
    "    \n",
    "    def to_list(self):\n",
    "        \"\"\"\n",
    "        Returns list representation of the stack.\n",
    "        \"\"\"\n",
    "        out = []\n",
    "        cur = self.head\n",
    "        \n",
    "        while cur.val:\n",
    "            out.append(cur.val)\n",
    "            cur = cur.next_\n",
    "        \n",
    "        return out"
   ]
  },
  {
   "cell_type": "code",
   "execution_count": 8,
   "metadata": {},
   "outputs": [],
   "source": [
    "stack = Stack_LL()\n",
    "\n",
    "stack.push(6)\n",
    "assert stack.to_list() == [6]\n",
    "\n",
    "stack.push(7)\n",
    "assert stack.to_list() == [7, 6]\n",
    "\n",
    "assert stack.pop() == 7\n",
    "assert stack.to_list() == [6]"
   ]
  },
  {
   "cell_type": "markdown",
   "metadata": {},
   "source": [
    "#### Stack with array data Structure"
   ]
  },
  {
   "cell_type": "code",
   "execution_count": 9,
   "metadata": {},
   "outputs": [],
   "source": [
    "class Stack_Array:\n",
    "    \n",
    "    \n",
    "    def __init__(self):\n",
    "        \"\"\"\n",
    "        Stack_LL initialization.\n",
    "        \"\"\"\n",
    "        self.stack = []\n",
    "    \n",
    "    \n",
    "    def push(self, val:int):\n",
    "        \"\"\"\n",
    "        Add element to stack.\n",
    "        \"\"\"\n",
    "        self.stack.insert(0, val)\n",
    "     \n",
    "    \n",
    "    def pop(self):\n",
    "        \"\"\"\n",
    "        Pops the last added element from array in accordince with LIFO principle.\n",
    "        \"\"\"\n",
    "        if not self.stack:\n",
    "            return 'Stack is empty'\n",
    "        return self.stack.pop(0)\n",
    "\n",
    "    \n",
    "    def print_stack(self):\n",
    "        \"\"\"\n",
    "        Returns stack.\n",
    "        \"\"\"\n",
    "    \n",
    "        return self.stack"
   ]
  },
  {
   "cell_type": "code",
   "execution_count": 10,
   "metadata": {},
   "outputs": [],
   "source": [
    "stack = Stack_Array()\n",
    "\n",
    "stack.push(6)\n",
    "assert stack.print_stack() == [6]\n",
    "\n",
    "stack.push(7)\n",
    "assert stack.print_stack() == [7, 6]\n",
    "\n",
    "assert stack.pop() == 7\n",
    "assert stack.print_stack() == [6]\n",
    "\n",
    "stack = Stack_Array()\n",
    "assert stack.pop() == 'Stack is empty'"
   ]
  },
  {
   "cell_type": "markdown",
   "metadata": {},
   "source": [
    "#### Queue Linked List DS realization"
   ]
  },
  {
   "cell_type": "code",
   "execution_count": 11,
   "metadata": {},
   "outputs": [],
   "source": [
    "class Queue_LL:\n",
    "    \n",
    "    \n",
    "    def __init__(self, head = None, tail = None):\n",
    "        \"\"\"\n",
    "        Queue initialization.\n",
    "        \"\"\"\n",
    "        self.head = None\n",
    "        self.tail = None\n",
    "    \n",
    "    \n",
    "    def enqueue(self, val:int):\n",
    "        \"\"\"\n",
    "        Add element to queue.\n",
    "        \"\"\"\n",
    "        if self.tail and self.head:\n",
    "            node = Node(val)\n",
    "            self.tail.next_ = node\n",
    "            self.tail = node\n",
    "           \n",
    "        else:\n",
    "            node = Node(val)\n",
    "            self.head = self.tail = node\n",
    "    \n",
    "    \n",
    "    def dequeue(self):\n",
    "        \"\"\"\n",
    "        Pops the last added element from linked list in accordince with LIFO principle.\n",
    "        \"\"\"\n",
    "        if not self.head:\n",
    "            return 'Queue is empty'\n",
    "        val = self.head.val\n",
    "        new_head = self.head.next_\n",
    "        self.head = new_head\n",
    "        \n",
    "        return val\n",
    "    \n",
    "    \n",
    "    def to_list(self):\n",
    "        \"\"\"\n",
    "        Returns list representation of the queue.\n",
    "        \"\"\"\n",
    "        \n",
    "        out = []\n",
    "        cur = self.head\n",
    "        \n",
    "        if cur is None:\n",
    "            return []\n",
    "        \n",
    "        while cur:\n",
    "            out.append(cur.val)\n",
    "            cur = cur.next_\n",
    "        \n",
    "        return out"
   ]
  },
  {
   "cell_type": "code",
   "execution_count": 12,
   "metadata": {},
   "outputs": [],
   "source": [
    "queue = Queue_LL()\n",
    "\n",
    "queue.enqueue(6)\n",
    "assert queue.to_list() == [6]\n",
    "\n",
    "queue.enqueue(7)\n",
    "assert queue.to_list() == [6, 7]\n",
    "\n",
    "assert queue.dequeue() == 6\n",
    "assert queue.to_list() == [7]"
   ]
  },
  {
   "cell_type": "markdown",
   "metadata": {},
   "source": [
    "#### Queue with array data strucure implementation"
   ]
  },
  {
   "cell_type": "code",
   "execution_count": 13,
   "metadata": {},
   "outputs": [],
   "source": [
    "class Queue_Array:\n",
    "    \n",
    "    \n",
    "    def __init__(self):\n",
    "        \"\"\"\n",
    "        Stack_LL initialization.\n",
    "        \"\"\"\n",
    "        self.queue = []\n",
    "    \n",
    "    \n",
    "    def enqueue(self, val:int):\n",
    "        \"\"\"\n",
    "        Add element to queue.\n",
    "        \"\"\"\n",
    "        self.queue.append(val)\n",
    "     \n",
    "    \n",
    "    def dequeue(self):\n",
    "        \"\"\"\n",
    "        Pops the last added element from array in accordince with LIFO principle.\n",
    "        \"\"\"\n",
    "        if not self.queue:\n",
    "            return 'Queue is empty'\n",
    "        \n",
    "        return self.queue.pop(0)\n",
    "\n",
    "    \n",
    "    def print_queue(self):\n",
    "        \"\"\"\n",
    "        Returns queue.\n",
    "        \"\"\"\n",
    "    \n",
    "        return self.queue"
   ]
  },
  {
   "cell_type": "code",
   "execution_count": 14,
   "metadata": {},
   "outputs": [],
   "source": [
    "queue = Queue_Array()\n",
    "\n",
    "queue.enqueue(6)\n",
    "assert queue.print_queue() == [6]\n",
    "\n",
    "queue.enqueue(7)\n",
    "assert queue.print_queue() == [6, 7]\n",
    "\n",
    "assert queue.dequeue() == 6\n",
    "assert queue.print_queue() == [7]\n",
    "\n",
    "queue = Queue_Array()\n",
    "assert queue.dequeue() == 'Queue is empty'"
   ]
  },
  {
   "cell_type": "markdown",
   "metadata": {},
   "source": [
    "#### LeetCode stack topic problems"
   ]
  },
  {
   "cell_type": "code",
   "execution_count": 15,
   "metadata": {},
   "outputs": [],
   "source": [
    "class Stack:\n",
    "\n",
    "    def __init__(self):\n",
    "        self._queue = collections.deque()\n",
    "\n",
    "    def push(self, x):\n",
    "        q = self._queue\n",
    "        q.append(x)\n",
    "        for _ in range(len(q) - 1):\n",
    "            print(q)\n",
    "            q.append(q.popleft())\n",
    "        \n",
    "    def pop(self):\n",
    "        return self._queue.popleft()\n",
    "\n",
    "    def top(self):\n",
    "        return self._queue[0]\n",
    "    \n",
    "    def empty(self):\n",
    "        return not len(self._queue)"
   ]
  },
  {
   "cell_type": "code",
   "execution_count": 16,
   "metadata": {},
   "outputs": [],
   "source": [
    "s1 = Stack()"
   ]
  },
  {
   "cell_type": "code",
   "execution_count": 17,
   "metadata": {},
   "outputs": [],
   "source": [
    "s1.push(3)"
   ]
  },
  {
   "cell_type": "code",
   "execution_count": 18,
   "metadata": {},
   "outputs": [
    {
     "data": {
      "text/plain": [
       "3"
      ]
     },
     "execution_count": 18,
     "metadata": {},
     "output_type": "execute_result"
    }
   ],
   "source": [
    "s1.top()"
   ]
  },
  {
   "cell_type": "code",
   "execution_count": 19,
   "metadata": {},
   "outputs": [
    {
     "name": "stdout",
     "output_type": "stream",
     "text": [
      "deque([3, 6])\n"
     ]
    }
   ],
   "source": [
    "s1.push(6)"
   ]
  },
  {
   "cell_type": "code",
   "execution_count": 20,
   "metadata": {},
   "outputs": [
    {
     "name": "stdout",
     "output_type": "stream",
     "text": [
      "deque([6, 3, 9])\n",
      "deque([3, 9, 6])\n"
     ]
    }
   ],
   "source": [
    "s1.push(9)"
   ]
  },
  {
   "cell_type": "code",
   "execution_count": 21,
   "metadata": {},
   "outputs": [
    {
     "data": {
      "text/plain": [
       "9"
      ]
     },
     "execution_count": 21,
     "metadata": {},
     "output_type": "execute_result"
    }
   ],
   "source": [
    "s1.top()"
   ]
  }
 ],
 "metadata": {
  "kernelspec": {
   "display_name": "Python [conda env:fastai] *",
   "language": "python",
   "name": "conda-env-fastai-py"
  },
  "language_info": {
   "codemirror_mode": {
    "name": "ipython",
    "version": 3
   },
   "file_extension": ".py",
   "mimetype": "text/x-python",
   "name": "python",
   "nbconvert_exporter": "python",
   "pygments_lexer": "ipython3",
   "version": "3.6.7"
  }
 },
 "nbformat": 4,
 "nbformat_minor": 2
}
