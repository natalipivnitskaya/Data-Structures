{
 "cells": [
  {
   "cell_type": "code",
   "execution_count": 1,
   "metadata": {},
   "outputs": [],
   "source": [
    "class Node:\n",
    "    def __init__(self, val, left = None, right = None):\n",
    "        \"\"\"\n",
    "        :type val: int\n",
    "        :type left: Node\n",
    "        :type right: Node\n",
    "        \"\"\"\n",
    "        self.val = val\n",
    "        self.left = left\n",
    "        self.right = right\n",
    "    \n",
    "    \n",
    "    def add(self, node):\n",
    "        \"\"\"\n",
    "        :type node: Node\n",
    "        \"\"\"\n",
    "        if node.val <= self.val:\n",
    "            if self.left is None:\n",
    "                self.left = node\n",
    "            else:\n",
    "                self.left.add(node)\n",
    "        else:\n",
    "            if self.right is None:\n",
    "                self.right = node\n",
    "            else:\n",
    "                self.right.add(node)   \n",
    "                \n",
    "    \n",
    "    def print_ascending(self): \n",
    "        if self.left is None:\n",
    "            print(self.val)\n",
    "        else:\n",
    "            self.left.print_ascending()\n",
    "            print(self.val)\n",
    "            if self.right:\n",
    "                self.right.print_ascending()\n",
    "\n",
    "                \n",
    "    def print_descending(self):\n",
    "        if self.right is None:\n",
    "            print(self.val)\n",
    "        else:\n",
    "            self.right.print_descending()\n",
    "            print(self.val)\n",
    "        if self.left:\n",
    "            self.left.print_descending()"
   ]
  },
  {
   "cell_type": "code",
   "execution_count": 2,
   "metadata": {},
   "outputs": [],
   "source": [
    "n1 = Node(5)\n",
    "n2 = Node(4)\n",
    "n3 = Node(3)"
   ]
  },
  {
   "cell_type": "code",
   "execution_count": 3,
   "metadata": {},
   "outputs": [],
   "source": [
    "n1.add(n2)\n",
    "n1.add(n3)"
   ]
  },
  {
   "cell_type": "code",
   "execution_count": 4,
   "metadata": {},
   "outputs": [
    {
     "data": {
      "text/plain": [
       "<__main__.Node at 0x7f98e94d64e0>"
      ]
     },
     "execution_count": 4,
     "metadata": {},
     "output_type": "execute_result"
    }
   ],
   "source": [
    "n1.left.left"
   ]
  },
  {
   "cell_type": "code",
   "execution_count": 5,
   "metadata": {},
   "outputs": [],
   "source": [
    "class Tree:\n",
    "    def __init__(self):\n",
    "        self.root = None\n",
    "    \n",
    "    \n",
    "    def is_empty(self):\n",
    "        \"\"\"\n",
    "        :rtype: bool\n",
    "        \"\"\"\n",
    "        return True if self.root is None else False\n",
    "    \n",
    "    \n",
    "    def add(self, node):\n",
    "        \"\"\"\n",
    "        :node: Node\n",
    "        \"\"\"\n",
    "        if self.root is None:\n",
    "            self.root = node\n",
    "        else:\n",
    "            current_node = self.root\n",
    "            while current_node is not None:\n",
    "                previous_node = current_node\n",
    "                if node.val <= current_node.val:\n",
    "                    current_node = current_node.left     \n",
    "                else: \n",
    "                    current_node = current_node.right\n",
    "            \n",
    "            if node.val <= previous_node.val:\n",
    "                previous_node.left = node\n",
    "            else:\n",
    "                previous_node.right = node\n",
    "    \n",
    "    \n",
    "    def add_recursive(self, node):\n",
    "        \"\"\"\n",
    "        :node: Node\n",
    "        \"\"\"\n",
    "        if self.root is None:\n",
    "            self.root = node\n",
    "        else: \n",
    "            self.root.add(node)\n",
    "            \n",
    "    def find_element(self, val):\n",
    "        \"\"\"\n",
    "        :val: int\n",
    "        :rtype: Tree\n",
    "        \"\"\"\n",
    "        \n",
    "        current_node = self.root\n",
    "        while current_node is not None and current_node.val != val:\n",
    "            if val > current_node.val:\n",
    "                current_node = current_node.right\n",
    "            else: \n",
    "                current_node = current_node.left\n",
    "        \n",
    "        return current_node"
   ]
  },
  {
   "cell_type": "code",
   "execution_count": 6,
   "metadata": {},
   "outputs": [],
   "source": [
    "t = Tree()\n",
    "assert t.is_empty()\n",
    "\n",
    "t.add_recursive(Node(3))\n",
    "assert not t.is_empty()\n",
    "\n",
    "t.add_recursive(Node(8))\n",
    "assert t.root.right.val == 8\n",
    "\n",
    "t.add_recursive(Node(8))\n",
    "assert t.root.right.left.val == 8\n",
    "\n",
    "t.add_recursive(Node(10))\n",
    "assert t.root.right.right.val == 10\n",
    "\n",
    "t.add_recursive(Node(1))\n",
    "assert t.root.left.val == 1\n",
    "\n",
    "t.add_recursive(Node(2))\n",
    "assert t.root.left.right.val == 2\n",
    "\n",
    "t.add_recursive(Node(5))\n",
    "assert t.root.right.left.left.val == 5\n",
    "\n",
    "t.add_recursive(Node(0))\n",
    "assert t.root.left.left.val == 0\n",
    "\n",
    "t.add_recursive(Node(9))\n",
    "assert t.root.right.right.left.val == 9"
   ]
  },
  {
   "cell_type": "code",
   "execution_count": 7,
   "metadata": {},
   "outputs": [],
   "source": [
    "a = t.find_element(1)"
   ]
  },
  {
   "cell_type": "code",
   "execution_count": 8,
   "metadata": {},
   "outputs": [
    {
     "name": "stdout",
     "output_type": "stream",
     "text": [
      "0\n",
      "1\n",
      "2\n"
     ]
    }
   ],
   "source": [
    "a.print_ascending()"
   ]
  }
 ],
 "metadata": {
  "kernelspec": {
   "display_name": "Python [conda env:fastai] *",
   "language": "python",
   "name": "conda-env-fastai-py"
  },
  "language_info": {
   "codemirror_mode": {
    "name": "ipython",
    "version": 3
   },
   "file_extension": ".py",
   "mimetype": "text/x-python",
   "name": "python",
   "nbconvert_exporter": "python",
   "pygments_lexer": "ipython3",
   "version": "3.6.7"
  }
 },
 "nbformat": 4,
 "nbformat_minor": 2
}
